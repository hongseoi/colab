{
  "nbformat": 4,
  "nbformat_minor": 0,
  "metadata": {
    "colab": {
      "name": "teddy_making_loader.ipynb",
      "provenance": [],
      "collapsed_sections": [],
      "authorship_tag": "ABX9TyMxugvkYYjhbJitl3jIsAyT",
      "include_colab_link": true
    },
    "kernelspec": {
      "name": "python3",
      "display_name": "Python 3"
    },
    "language_info": {
      "name": "python"
    }
  },
  "cells": [
    {
      "cell_type": "markdown",
      "metadata": {
        "id": "view-in-github",
        "colab_type": "text"
      },
      "source": [
        "<a href=\"https://colab.research.google.com/github/hongseoi/colab/blob/main/teddy_making_loader.ipynb\" target=\"_parent\"><img src=\"https://colab.research.google.com/assets/colab-badge.svg\" alt=\"Open In Colab\"/></a>"
      ]
    },
    {
      "cell_type": "markdown",
      "source": [
        "##tensorflow 2.0 Dataset, batch, window, flat_map을 활용한 loader 만들기\n",
        "\n",
        "https://teddylee777.github.io/tensorflow/dataset-batch-window\n",
        "\n",
        "tf.data.Dataset을 활용해 다양한 데이터셋loader를 만들고 다양한 종류의 데이터셋을 모델에 feed하자\n",
        "\n",
        "<br>\n",
        "\n",
        "출처: 테디노트"
      ],
      "metadata": {
        "id": "kXyx3wOgXtak"
      }
    },
    {
      "cell_type": "code",
      "source": [
        "import numpy as np\n",
        "import tensorflow as tf"
      ],
      "metadata": {
        "id": "RlCq3jIKXtBM"
      },
      "execution_count": 1,
      "outputs": []
    },
    {
      "cell_type": "code",
      "execution_count": 2,
      "metadata": {
        "colab": {
          "base_uri": "https://localhost:8080/"
        },
        "id": "3JIHF4dCXqKB",
        "outputId": "201441b8-4e00-44d4-a276-91b589495f53"
      },
      "outputs": [
        {
          "output_type": "execute_result",
          "data": {
            "text/plain": [
              "TensorShape([20, 1])"
            ]
          },
          "metadata": {},
          "execution_count": 2
        }
      ],
      "source": [
        "# dimension 1만큼 늘리기: expand_dims()\n",
        "\n",
        "x = np.arange(20)\n",
        "tf.expand_dims(x,1).shape"
      ]
    },
    {
      "cell_type": "code",
      "source": [
        "# tf의 expand_dims는 numpy의 expand_dims와 동일\n",
        "\n",
        "np.expand_dims(x,1).shape"
      ],
      "metadata": {
        "colab": {
          "base_uri": "https://localhost:8080/"
        },
        "id": "bYan0JdSYXwG",
        "outputId": "88586514-70de-4dc1-b78e-23931e89377d"
      },
      "execution_count": 3,
      "outputs": [
        {
          "output_type": "execute_result",
          "data": {
            "text/plain": [
              "(20, 1)"
            ]
          },
          "metadata": {},
          "execution_count": 3
        }
      ]
    },
    {
      "cell_type": "code",
      "source": [
        "# from_tensor_slices(): numpy array, list를 tensor dataset으로 변환\n",
        "\n",
        "ds = tf.data.Dataset.from_tensor_slices([1,2,3,4,5])\n",
        "\n",
        "for d in ds:\n",
        "  print(d)"
      ],
      "metadata": {
        "colab": {
          "base_uri": "https://localhost:8080/"
        },
        "id": "yp1KPrQFYgBL",
        "outputId": "2196854c-0692-4eb7-ac9d-a72bd3fe1708"
      },
      "execution_count": 5,
      "outputs": [
        {
          "output_type": "stream",
          "name": "stdout",
          "text": [
            "tf.Tensor(1, shape=(), dtype=int32)\n",
            "tf.Tensor(2, shape=(), dtype=int32)\n",
            "tf.Tensor(3, shape=(), dtype=int32)\n",
            "tf.Tensor(4, shape=(), dtype=int32)\n",
            "tf.Tensor(5, shape=(), dtype=int32)\n"
          ]
        }
      ]
    },
    {
      "cell_type": "code",
      "source": [
        "ds = tf.data.Dataset.from_tensor_slices(np.arange(10))\n",
        "\n",
        "for d in ds:\n",
        "  print(d)"
      ],
      "metadata": {
        "colab": {
          "base_uri": "https://localhost:8080/"
        },
        "id": "UDFzpeaEYsXo",
        "outputId": "d184ce40-0d2f-484f-b0eb-082c9d499570"
      },
      "execution_count": 6,
      "outputs": [
        {
          "output_type": "stream",
          "name": "stdout",
          "text": [
            "tf.Tensor(0, shape=(), dtype=int64)\n",
            "tf.Tensor(1, shape=(), dtype=int64)\n",
            "tf.Tensor(2, shape=(), dtype=int64)\n",
            "tf.Tensor(3, shape=(), dtype=int64)\n",
            "tf.Tensor(4, shape=(), dtype=int64)\n",
            "tf.Tensor(5, shape=(), dtype=int64)\n",
            "tf.Tensor(6, shape=(), dtype=int64)\n",
            "tf.Tensor(7, shape=(), dtype=int64)\n",
            "tf.Tensor(8, shape=(), dtype=int64)\n",
            "tf.Tensor(9, shape=(), dtype=int64)\n"
          ]
        }
      ]
    },
    {
      "cell_type": "code",
      "source": [
        "# batch: 모델 학습시 batch_size 지정해 size만큼만 데이터 읽어들임\n",
        "## 특히 이미지와 같이 큰 사이즈는 메모리에 한번에 올라가지 못하므로 batch를 나누어서 학습\n",
        "\n",
        "ds = tf.data.Dataset.range(8)\n",
        "ds = ds.batch(3, drop_remainder=True) # 마지막 남은 데이터를 drop할 것인지\n",
        "list(ds.as_numpy_iterator())"
      ],
      "metadata": {
        "colab": {
          "base_uri": "https://localhost:8080/"
        },
        "id": "QpLLvwg7Y4A_",
        "outputId": "ca17284a-6a5e-4327-f9ad-fcb0596adfdd"
      },
      "execution_count": 10,
      "outputs": [
        {
          "output_type": "execute_result",
          "data": {
            "text/plain": [
              "[array([0, 1, 2]), array([3, 4, 5])]"
            ]
          },
          "metadata": {},
          "execution_count": 10
        }
      ]
    },
    {
      "cell_type": "code",
      "source": [
        "ds = tf.data.Dataset.range(8)\n",
        "for d in ds.batch(3, drop_remainder=True):\n",
        "  print(d)"
      ],
      "metadata": {
        "colab": {
          "base_uri": "https://localhost:8080/"
        },
        "id": "ny2VByDQZG_K",
        "outputId": "6bd53a9e-c731-4f80-cd1f-74a01de689f5"
      },
      "execution_count": 11,
      "outputs": [
        {
          "output_type": "stream",
          "name": "stdout",
          "text": [
            "tf.Tensor([0 1 2], shape=(3,), dtype=int64)\n",
            "tf.Tensor([3 4 5], shape=(3,), dtype=int64)\n"
          ]
        }
      ]
    },
    {
      "cell_type": "code",
      "source": [
        "# window(): time series 데이터셋 생성에 유용\n",
        "## window: 그룹화할 윈도우 크기(갯수)\n",
        "## shift: 1 iteration당 몇개씩 이동할 것인지\n",
        "\n",
        "ds= tf.data.Dataset.range(10)\n",
        "ds = ds.window(5, shift=1, drop_remainder=False)\n",
        "\n",
        "for d in ds:\n",
        "  print(list(d.as_numpy_iterator()))"
      ],
      "metadata": {
        "colab": {
          "base_uri": "https://localhost:8080/"
        },
        "id": "cJLHeqXRZsgV",
        "outputId": "6a430ce9-944c-4ea3-c4f5-e6c85299a252"
      },
      "execution_count": 12,
      "outputs": [
        {
          "output_type": "stream",
          "name": "stdout",
          "text": [
            "[0, 1, 2, 3, 4]\n",
            "[1, 2, 3, 4, 5]\n",
            "[2, 3, 4, 5, 6]\n",
            "[3, 4, 5, 6, 7]\n",
            "[4, 5, 6, 7, 8]\n",
            "[5, 6, 7, 8, 9]\n",
            "[6, 7, 8, 9]\n",
            "[7, 8, 9]\n",
            "[8, 9]\n",
            "[9]\n"
          ]
        }
      ]
    },
    {
      "cell_type": "code",
      "source": [
        "# drop_iteration True인 경우\n",
        "\n",
        "ds= tf.data.Dataset.range(10)\n",
        "ds = ds.window(5, shift=1, drop_remainder=True)\n",
        "\n",
        "for d in ds:\n",
        "  print(list(d.as_numpy_iterator()))"
      ],
      "metadata": {
        "colab": {
          "base_uri": "https://localhost:8080/"
        },
        "id": "P3TpzAIBaKDn",
        "outputId": "aacefdff-aced-4cbd-f728-a1b7e784c23a"
      },
      "execution_count": 13,
      "outputs": [
        {
          "output_type": "stream",
          "name": "stdout",
          "text": [
            "[0, 1, 2, 3, 4]\n",
            "[1, 2, 3, 4, 5]\n",
            "[2, 3, 4, 5, 6]\n",
            "[3, 4, 5, 6, 7]\n",
            "[4, 5, 6, 7, 8]\n",
            "[5, 6, 7, 8, 9]\n"
          ]
        }
      ]
    },
    {
      "cell_type": "code",
      "source": [
        "# shift 2로 설정한경우\n",
        "\n",
        "ds= tf.data.Dataset.range(10)\n",
        "ds = ds.window(5, shift=2, drop_remainder=False)\n",
        "\n",
        "for d in ds:\n",
        "  print(list(d.as_numpy_iterator()))"
      ],
      "metadata": {
        "colab": {
          "base_uri": "https://localhost:8080/"
        },
        "id": "IpkJERc1aRMY",
        "outputId": "59877b6d-a4bc-464a-9269-f6d829c28376"
      },
      "execution_count": 14,
      "outputs": [
        {
          "output_type": "stream",
          "name": "stdout",
          "text": [
            "[0, 1, 2, 3, 4]\n",
            "[2, 3, 4, 5, 6]\n",
            "[4, 5, 6, 7, 8]\n",
            "[6, 7, 8, 9]\n",
            "[8, 9]\n"
          ]
        }
      ]
    },
    {
      "cell_type": "code",
      "source": [
        "# flat_map: 데이터셋에 함수 apply하고 결과를 flatten\n",
        "\n",
        "ds = tf.data.Dataset.range(10)\n",
        "ds = ds.window(5, shift=1, drop_remainder=True)\n",
        "ds = ds.flat_map(lambda w:w.batch(3))\n",
        "for d in ds:\n",
        "  print(d)"
      ],
      "metadata": {
        "colab": {
          "base_uri": "https://localhost:8080/"
        },
        "id": "vStnfksjaVgx",
        "outputId": "9a69b477-e110-40c5-a516-64bf40e76c64"
      },
      "execution_count": 15,
      "outputs": [
        {
          "output_type": "stream",
          "name": "stdout",
          "text": [
            "tf.Tensor([0 1 2], shape=(3,), dtype=int64)\n",
            "tf.Tensor([3 4], shape=(2,), dtype=int64)\n",
            "tf.Tensor([1 2 3], shape=(3,), dtype=int64)\n",
            "tf.Tensor([4 5], shape=(2,), dtype=int64)\n",
            "tf.Tensor([2 3 4], shape=(3,), dtype=int64)\n",
            "tf.Tensor([5 6], shape=(2,), dtype=int64)\n",
            "tf.Tensor([3 4 5], shape=(3,), dtype=int64)\n",
            "tf.Tensor([6 7], shape=(2,), dtype=int64)\n",
            "tf.Tensor([4 5 6], shape=(3,), dtype=int64)\n",
            "tf.Tensor([7 8], shape=(2,), dtype=int64)\n",
            "tf.Tensor([5 6 7], shape=(3,), dtype=int64)\n",
            "tf.Tensor([8 9], shape=(2,), dtype=int64)\n"
          ]
        }
      ]
    },
    {
      "cell_type": "code",
      "source": [
        "ds = tf.data.Dataset.range(10)\n",
        "ds = ds.window(5, shift=1, drop_remainder=True)\n",
        "ds = ds.flat_map(lambda w:w.batch(5))\n",
        "\n",
        "for d in ds:\n",
        "  print(d)"
      ],
      "metadata": {
        "colab": {
          "base_uri": "https://localhost:8080/"
        },
        "id": "5JH9bGWnanUg",
        "outputId": "4a631a0f-5f3b-4365-882e-82021cc5e694"
      },
      "execution_count": 16,
      "outputs": [
        {
          "output_type": "stream",
          "name": "stdout",
          "text": [
            "tf.Tensor([0 1 2 3 4], shape=(5,), dtype=int64)\n",
            "tf.Tensor([1 2 3 4 5], shape=(5,), dtype=int64)\n",
            "tf.Tensor([2 3 4 5 6], shape=(5,), dtype=int64)\n",
            "tf.Tensor([3 4 5 6 7], shape=(5,), dtype=int64)\n",
            "tf.Tensor([4 5 6 7 8], shape=(5,), dtype=int64)\n",
            "tf.Tensor([5 6 7 8 9], shape=(5,), dtype=int64)\n"
          ]
        }
      ]
    },
    {
      "cell_type": "code",
      "source": [
        "# shuffle: dataset 섞음. 학습전필수!!\n",
        "\n",
        "ds = tf.data.Dataset.from_tensor_slices(np.arange(10)).shuffle(buffer_size=5) #버퍼사이즈는 데이터셋 전체크기보다 크거나 같아야함\n",
        "for d in ds:\n",
        "  print(d)"
      ],
      "metadata": {
        "colab": {
          "base_uri": "https://localhost:8080/"
        },
        "id": "vokNfi_cbwfo",
        "outputId": "e104f68b-f766-4822-d4cc-db14dcbdc1b6"
      },
      "execution_count": 19,
      "outputs": [
        {
          "output_type": "stream",
          "name": "stdout",
          "text": [
            "tf.Tensor(1, shape=(), dtype=int64)\n",
            "tf.Tensor(3, shape=(), dtype=int64)\n",
            "tf.Tensor(6, shape=(), dtype=int64)\n",
            "tf.Tensor(2, shape=(), dtype=int64)\n",
            "tf.Tensor(8, shape=(), dtype=int64)\n",
            "tf.Tensor(4, shape=(), dtype=int64)\n",
            "tf.Tensor(9, shape=(), dtype=int64)\n",
            "tf.Tensor(7, shape=(), dtype=int64)\n",
            "tf.Tensor(0, shape=(), dtype=int64)\n",
            "tf.Tensor(5, shape=(), dtype=int64)\n"
          ]
        }
      ]
    },
    {
      "cell_type": "code",
      "source": [
        "# map: pandas의 map과 유사\n",
        "## time series dataset을 만드는 경우 train/label값 분류용으로 활용 가능\n",
        "\n",
        "window_size = 5\n",
        "\n",
        "ds = tf.data.Dataset.range(10)\n",
        "ds = ds.window(window_size, shift=1, drop_remainder=True)\n",
        "ds = ds.flat_map(lambda w: w.batch(window_size))\n",
        "ds = ds.shuffle(10)\n",
        "\n",
        "ds = ds.map(lambda x:(x[:-1], x[-1:]))\n",
        "for x,y in ds:\n",
        "  print(\"train data:\",x)\n",
        "  print(\"label set:\",y)"
      ],
      "metadata": {
        "colab": {
          "base_uri": "https://localhost:8080/"
        },
        "id": "ygBHo7tHcCGe",
        "outputId": "4ecd6d31-c4c3-4c48-d326-fb58ba5303da"
      },
      "execution_count": 21,
      "outputs": [
        {
          "output_type": "stream",
          "name": "stdout",
          "text": [
            "train data: tf.Tensor([4 5 6 7], shape=(4,), dtype=int64)\n",
            "label set: tf.Tensor([8], shape=(1,), dtype=int64)\n",
            "train data: tf.Tensor([1 2 3 4], shape=(4,), dtype=int64)\n",
            "label set: tf.Tensor([5], shape=(1,), dtype=int64)\n",
            "train data: tf.Tensor([5 6 7 8], shape=(4,), dtype=int64)\n",
            "label set: tf.Tensor([9], shape=(1,), dtype=int64)\n",
            "train data: tf.Tensor([3 4 5 6], shape=(4,), dtype=int64)\n",
            "label set: tf.Tensor([7], shape=(1,), dtype=int64)\n",
            "train data: tf.Tensor([0 1 2 3], shape=(4,), dtype=int64)\n",
            "label set: tf.Tensor([4], shape=(1,), dtype=int64)\n",
            "train data: tf.Tensor([2 3 4 5], shape=(4,), dtype=int64)\n",
            "label set: tf.Tensor([6], shape=(1,), dtype=int64)\n"
          ]
        }
      ]
    },
    {
      "cell_type": "code",
      "source": [
        ""
      ],
      "metadata": {
        "id": "RtSetxo-ctcG"
      },
      "execution_count": null,
      "outputs": []
    }
  ]
}