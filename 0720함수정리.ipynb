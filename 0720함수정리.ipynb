{
  "nbformat": 4,
  "nbformat_minor": 0,
  "metadata": {
    "colab": {
      "name": "0720함수정리.ipynb",
      "provenance": [],
      "authorship_tag": "ABX9TyOxMf4IQuL0HqloH2KlIIZK",
      "include_colab_link": true
    },
    "kernelspec": {
      "name": "python3",
      "display_name": "Python 3"
    },
    "language_info": {
      "name": "python"
    }
  },
  "cells": [
    {
      "cell_type": "markdown",
      "metadata": {
        "id": "view-in-github",
        "colab_type": "text"
      },
      "source": [
        "<a href=\"https://colab.research.google.com/github/hongseoi/colab/blob/main/0720%ED%95%A8%EC%88%98%EC%A0%95%EB%A6%AC.ipynb\" target=\"_parent\"><img src=\"https://colab.research.google.com/assets/colab-badge.svg\" alt=\"Open In Colab\"/></a>"
      ]
    },
    {
      "cell_type": "code",
      "execution_count": null,
      "metadata": {
        "id": "4tIWHCyfgAp1"
      },
      "outputs": [],
      "source": [
        "import tensorflow as tf"
      ]
    },
    {
      "cell_type": "markdown",
      "source": [
        "<img src=\"https://img1.daumcdn.net/thumb/R1280x0/?scode=mtistory2&fname=https%3A%2F%2Fblog.kakaocdn.net%2Fdn%2FF2bI1%2FbtqJSciC5nJ%2FstSwF20OKLLuCSzvVz68fk%2Fimg.png\">\n",
        "\n",
        "```\n",
        "# 코드로 형식 지정됨\n",
        "```\n",
        "\n"
      ],
      "metadata": {
        "id": "GzORqRvxgwDV"
      }
    },
    {
      "cell_type": "code",
      "source": [
        "#Conv1D()\n",
        "## 합성곱 연산 기능 중 한방향(가로)로 합성곱. 1dArray 즉 벡터 출력\n",
        "## 주로 이미지 데이터를 사용하는 인공신경망에서 사용함\n",
        "import tensorflow.compat.v1 as tf\n",
        "tf.disable_v2_behavior()\n",
        "\n",
        "input_size = (1,28,28)\n",
        "input = tf.placeholder(tf.float32, shape=input_size)\n",
        "conv = tf.keras.layers.Conv1D(\n",
        "    filters = 10,\n",
        "    kernel_size = 3,\n",
        "    padding = 'same',\n",
        "    activation = tf.nn.relu\n",
        ")(input)"
      ],
      "metadata": {
        "colab": {
          "base_uri": "https://localhost:8080/"
        },
        "id": "QokWzT1ygGy3",
        "outputId": "9ec750d7-873e-41da-ded0-c790bccb57a2"
      },
      "execution_count": null,
      "outputs": [
        {
          "output_type": "stream",
          "name": "stdout",
          "text": [
            "WARNING:tensorflow:From /usr/local/lib/python3.7/dist-packages/tensorflow/python/compat/v2_compat.py:107: disable_resource_variables (from tensorflow.python.ops.variable_scope) is deprecated and will be removed in a future version.\n",
            "Instructions for updating:\n",
            "non-resource variables are not supported in the long term\n"
          ]
        },
        {
          "output_type": "stream",
          "name": "stderr",
          "text": [
            "WARNING:tensorflow:From /usr/local/lib/python3.7/dist-packages/tensorflow/python/compat/v2_compat.py:107: disable_resource_variables (from tensorflow.python.ops.variable_scope) is deprecated and will be removed in a future version.\n",
            "Instructions for updating:\n",
            "non-resource variables are not supported in the long term\n"
          ]
        }
      ]
    },
    {
      "cell_type": "markdown",
      "source": [
        "##RNN(Recurrent Neural Network)\n",
        "* 스스로를 반복하며 이전 단계에서 얻은 정보가 지속되도록 함\n",
        "* 음성인식, 언어 모델링, 번역, 이미지 주석 등 다양한 분야에서 사용됨\n",
        "* 긴 의존기간의 문제: 필요한 정보를 얻기위한 시간 격차가 커질수록 어려워진다.\n",
        "\n",
        "##LSTM(Long Short Term Memory)\n",
        "* rnn 성공의 열쇠\n",
        "* 특별한 종류의 RNN: 긴 의존기간을 필요로 하는 학습 수행 가능\n",
        "* \n",
        "\n",
        "참고: https://dgkim5360.tistory.com/entry/understanding-long-short-term-memory-lstm-kr"
      ],
      "metadata": {
        "id": "uRRIPCbVjzmg"
      }
    },
    {
      "cell_type": "code",
      "source": [
        "#LSTM 간단한 예제\n",
        "\n",
        "from numpy import array\n",
        "from keras.models import Sequential\n",
        "from keras.layers import Dense, LSTM\n",
        "\n",
        "x = array([[1,2,3],[2,3,4],[3,4,5],[4,5,6]])\n",
        "y = array([4,5,6,7])\n",
        "\n",
        "print('x shape:',x.shape)\n",
        "print('y shape:', y.shape)\n",
        "print(x)\n",
        "\n",
        "print('-----------x reshape----------------')\n",
        "x = x.reshape((x.shape[0],x.shape[1],1))\n",
        "print('x shape:', x.shape)\n",
        "print(x)\n",
        "\n",
        "# 모델 구성\n",
        "model = Sequential()\n",
        "model.add(LSTM(10, activation='relu', input_shape=(3,1)))\n",
        "model.add(Dense(5))\n",
        "model.add(Dense(1))\n",
        "\n",
        "model.summary()\n",
        "\n",
        "model.compile(optimizer='adam', loss='mse')\n",
        "model.fit(x,y,epochs=100, batch_size=1)\n",
        "\n",
        "x_input = array([6,7,8])\n",
        "x_input = x_input.reshape((1,3,1))\n",
        "\n",
        "yhat = model.predict(x_input)\n",
        "print(yhat)"
      ],
      "metadata": {
        "id": "r7o0GBf5gMWV",
        "colab": {
          "base_uri": "https://localhost:8080/"
        },
        "outputId": "7e4f6bc7-fbb5-4e4d-9824-f3dbdc0b748a"
      },
      "execution_count": null,
      "outputs": [
        {
          "output_type": "stream",
          "name": "stdout",
          "text": [
            "x shape: (4, 3)\n",
            "y shape: (4,)\n",
            "[[1 2 3]\n",
            " [2 3 4]\n",
            " [3 4 5]\n",
            " [4 5 6]]\n",
            "-----------x reshape----------------\n",
            "x shape: (4, 3, 1)\n",
            "[[[1]\n",
            "  [2]\n",
            "  [3]]\n",
            "\n",
            " [[2]\n",
            "  [3]\n",
            "  [4]]\n",
            "\n",
            " [[3]\n",
            "  [4]\n",
            "  [5]]\n",
            "\n",
            " [[4]\n",
            "  [5]\n",
            "  [6]]]\n",
            "Model: \"sequential_1\"\n",
            "_________________________________________________________________\n",
            " Layer (type)                Output Shape              Param #   \n",
            "=================================================================\n",
            " lstm_1 (LSTM)               (None, 10)                480       \n",
            "                                                                 \n",
            " dense_2 (Dense)             (None, 5)                 55        \n",
            "                                                                 \n",
            " dense_3 (Dense)             (None, 1)                 6         \n",
            "                                                                 \n",
            "=================================================================\n",
            "Total params: 541\n",
            "Trainable params: 541\n",
            "Non-trainable params: 0\n",
            "_________________________________________________________________\n",
            "Train on 4 samples\n",
            "Epoch 1/100\n",
            "4/4 [==============================] - 0s 3ms/sample - loss: 29.1832\n",
            "Epoch 2/100\n",
            "4/4 [==============================] - 0s 3ms/sample - loss: 28.6763\n",
            "Epoch 3/100\n",
            "4/4 [==============================] - 0s 3ms/sample - loss: 28.1891\n",
            "Epoch 4/100\n",
            "4/4 [==============================] - 0s 3ms/sample - loss: 27.7389\n",
            "Epoch 5/100\n",
            "4/4 [==============================] - 0s 4ms/sample - loss: 27.1548\n",
            "Epoch 6/100\n",
            "4/4 [==============================] - 0s 4ms/sample - loss: 26.6516\n",
            "Epoch 7/100\n",
            "4/4 [==============================] - 0s 3ms/sample - loss: 26.0092\n",
            "Epoch 8/100\n",
            "4/4 [==============================] - 0s 3ms/sample - loss: 25.4440\n",
            "Epoch 9/100\n",
            "4/4 [==============================] - 0s 3ms/sample - loss: 24.7587\n",
            "Epoch 10/100\n",
            "4/4 [==============================] - 0s 3ms/sample - loss: 24.1545\n",
            "Epoch 11/100\n",
            "4/4 [==============================] - 0s 2ms/sample - loss: 23.4211\n",
            "Epoch 12/100\n",
            "4/4 [==============================] - 0s 3ms/sample - loss: 22.6338\n",
            "Epoch 13/100\n",
            "4/4 [==============================] - 0s 3ms/sample - loss: 21.8789\n",
            "Epoch 14/100\n",
            "4/4 [==============================] - 0s 3ms/sample - loss: 21.0169\n",
            "Epoch 15/100\n",
            "4/4 [==============================] - 0s 3ms/sample - loss: 19.9686\n",
            "Epoch 16/100\n",
            "4/4 [==============================] - 0s 3ms/sample - loss: 19.1702\n",
            "Epoch 17/100\n",
            "4/4 [==============================] - 0s 2ms/sample - loss: 17.9973\n",
            "Epoch 18/100\n",
            "4/4 [==============================] - 0s 3ms/sample - loss: 16.9845\n",
            "Epoch 19/100\n",
            "4/4 [==============================] - 0s 2ms/sample - loss: 15.8522\n",
            "Epoch 20/100\n",
            "4/4 [==============================] - 0s 4ms/sample - loss: 14.6177\n",
            "Epoch 21/100\n",
            "4/4 [==============================] - 0s 4ms/sample - loss: 13.2781\n",
            "Epoch 22/100\n",
            "4/4 [==============================] - 0s 4ms/sample - loss: 12.0086\n",
            "Epoch 23/100\n",
            "4/4 [==============================] - 0s 3ms/sample - loss: 10.6815\n",
            "Epoch 24/100\n",
            "4/4 [==============================] - 0s 2ms/sample - loss: 9.1396\n",
            "Epoch 25/100\n",
            "4/4 [==============================] - 0s 2ms/sample - loss: 7.7039\n",
            "Epoch 26/100\n",
            "4/4 [==============================] - 0s 2ms/sample - loss: 6.4390\n",
            "Epoch 27/100\n",
            "4/4 [==============================] - 0s 57ms/sample - loss: 5.0185\n",
            "Epoch 28/100\n",
            "4/4 [==============================] - 0s 4ms/sample - loss: 3.7080\n",
            "Epoch 29/100\n",
            "4/4 [==============================] - 0s 3ms/sample - loss: 2.5704\n",
            "Epoch 30/100\n",
            "4/4 [==============================] - 0s 4ms/sample - loss: 1.6586\n",
            "Epoch 31/100\n",
            "4/4 [==============================] - 0s 3ms/sample - loss: 0.9270\n",
            "Epoch 32/100\n",
            "4/4 [==============================] - 0s 2ms/sample - loss: 0.4262\n",
            "Epoch 33/100\n",
            "4/4 [==============================] - 0s 3ms/sample - loss: 0.2069\n",
            "Epoch 34/100\n",
            "4/4 [==============================] - 0s 3ms/sample - loss: 0.1060\n",
            "Epoch 35/100\n",
            "4/4 [==============================] - 0s 2ms/sample - loss: 0.1422\n",
            "Epoch 36/100\n",
            "4/4 [==============================] - 0s 2ms/sample - loss: 0.1644\n",
            "Epoch 37/100\n",
            "4/4 [==============================] - 0s 3ms/sample - loss: 0.1689\n",
            "Epoch 38/100\n",
            "4/4 [==============================] - 0s 2ms/sample - loss: 0.1549\n",
            "Epoch 39/100\n",
            "4/4 [==============================] - 0s 3ms/sample - loss: 0.1350\n",
            "Epoch 40/100\n",
            "4/4 [==============================] - 0s 3ms/sample - loss: 0.1185\n",
            "Epoch 41/100\n",
            "4/4 [==============================] - 0s 3ms/sample - loss: 0.1045\n",
            "Epoch 42/100\n",
            "4/4 [==============================] - 0s 3ms/sample - loss: 0.1026\n",
            "Epoch 43/100\n",
            "4/4 [==============================] - 0s 5ms/sample - loss: 0.0967\n",
            "Epoch 44/100\n",
            "4/4 [==============================] - 0s 3ms/sample - loss: 0.0965\n",
            "Epoch 45/100\n",
            "4/4 [==============================] - 0s 3ms/sample - loss: 0.0959\n",
            "Epoch 46/100\n",
            "4/4 [==============================] - 0s 3ms/sample - loss: 0.0942\n",
            "Epoch 47/100\n",
            "4/4 [==============================] - 0s 3ms/sample - loss: 0.0918\n",
            "Epoch 48/100\n",
            "4/4 [==============================] - 0s 3ms/sample - loss: 0.0911\n",
            "Epoch 49/100\n",
            "4/4 [==============================] - 0s 2ms/sample - loss: 0.0886\n",
            "Epoch 50/100\n",
            "4/4 [==============================] - 0s 3ms/sample - loss: 0.0858\n",
            "Epoch 51/100\n",
            "4/4 [==============================] - 0s 3ms/sample - loss: 0.0842\n",
            "Epoch 52/100\n",
            "4/4 [==============================] - 0s 4ms/sample - loss: 0.0834\n",
            "Epoch 53/100\n",
            "4/4 [==============================] - 0s 3ms/sample - loss: 0.0815\n",
            "Epoch 54/100\n",
            "4/4 [==============================] - 0s 3ms/sample - loss: 0.0800\n",
            "Epoch 55/100\n",
            "4/4 [==============================] - 0s 3ms/sample - loss: 0.0796\n",
            "Epoch 56/100\n",
            "4/4 [==============================] - 0s 3ms/sample - loss: 0.0775\n",
            "Epoch 57/100\n",
            "4/4 [==============================] - 0s 3ms/sample - loss: 0.0757\n",
            "Epoch 58/100\n",
            "4/4 [==============================] - 0s 3ms/sample - loss: 0.0744\n",
            "Epoch 59/100\n",
            "4/4 [==============================] - 0s 3ms/sample - loss: 0.0737\n",
            "Epoch 60/100\n",
            "4/4 [==============================] - 0s 3ms/sample - loss: 0.0713\n",
            "Epoch 61/100\n",
            "4/4 [==============================] - 0s 3ms/sample - loss: 0.0708\n",
            "Epoch 62/100\n",
            "4/4 [==============================] - 0s 3ms/sample - loss: 0.0687\n",
            "Epoch 63/100\n",
            "4/4 [==============================] - 0s 3ms/sample - loss: 0.0678\n",
            "Epoch 64/100\n",
            "4/4 [==============================] - 0s 3ms/sample - loss: 0.0665\n",
            "Epoch 65/100\n",
            "4/4 [==============================] - 0s 2ms/sample - loss: 0.0651\n",
            "Epoch 66/100\n",
            "4/4 [==============================] - 0s 3ms/sample - loss: 0.0638\n",
            "Epoch 67/100\n",
            "4/4 [==============================] - 0s 3ms/sample - loss: 0.0620\n",
            "Epoch 68/100\n",
            "4/4 [==============================] - 0s 3ms/sample - loss: 0.0613\n",
            "Epoch 69/100\n",
            "4/4 [==============================] - 0s 3ms/sample - loss: 0.0600\n",
            "Epoch 70/100\n",
            "4/4 [==============================] - 0s 3ms/sample - loss: 0.0590\n",
            "Epoch 71/100\n",
            "4/4 [==============================] - 0s 3ms/sample - loss: 0.0575\n",
            "Epoch 72/100\n",
            "4/4 [==============================] - 0s 3ms/sample - loss: 0.0562\n",
            "Epoch 73/100\n",
            "4/4 [==============================] - 0s 2ms/sample - loss: 0.0552\n",
            "Epoch 74/100\n",
            "4/4 [==============================] - 0s 3ms/sample - loss: 0.0536\n",
            "Epoch 75/100\n",
            "4/4 [==============================] - 0s 3ms/sample - loss: 0.0530\n",
            "Epoch 76/100\n",
            "4/4 [==============================] - 0s 3ms/sample - loss: 0.0521\n",
            "Epoch 77/100\n",
            "4/4 [==============================] - 0s 3ms/sample - loss: 0.0508\n",
            "Epoch 78/100\n",
            "4/4 [==============================] - 0s 2ms/sample - loss: 0.0505\n",
            "Epoch 79/100\n",
            "4/4 [==============================] - 0s 3ms/sample - loss: 0.0489\n",
            "Epoch 80/100\n",
            "4/4 [==============================] - 0s 3ms/sample - loss: 0.0484\n",
            "Epoch 81/100\n",
            "4/4 [==============================] - 0s 3ms/sample - loss: 0.0476\n",
            "Epoch 82/100\n",
            "4/4 [==============================] - 0s 3ms/sample - loss: 0.0461\n",
            "Epoch 83/100\n",
            "4/4 [==============================] - 0s 3ms/sample - loss: 0.0449\n",
            "Epoch 84/100\n",
            "4/4 [==============================] - 0s 3ms/sample - loss: 0.0451\n",
            "Epoch 85/100\n",
            "4/4 [==============================] - 0s 3ms/sample - loss: 0.0429\n",
            "Epoch 86/100\n",
            "4/4 [==============================] - 0s 4ms/sample - loss: 0.0421\n",
            "Epoch 87/100\n",
            "4/4 [==============================] - 0s 4ms/sample - loss: 0.0412\n",
            "Epoch 88/100\n",
            "4/4 [==============================] - 0s 4ms/sample - loss: 0.0403\n",
            "Epoch 89/100\n",
            "4/4 [==============================] - 0s 3ms/sample - loss: 0.0398\n",
            "Epoch 90/100\n",
            "4/4 [==============================] - 0s 3ms/sample - loss: 0.0389\n",
            "Epoch 91/100\n",
            "4/4 [==============================] - 0s 3ms/sample - loss: 0.0381\n",
            "Epoch 92/100\n",
            "4/4 [==============================] - 0s 3ms/sample - loss: 0.0372\n",
            "Epoch 93/100\n",
            "4/4 [==============================] - 0s 3ms/sample - loss: 0.0373\n",
            "Epoch 94/100\n",
            "4/4 [==============================] - 0s 3ms/sample - loss: 0.0358\n",
            "Epoch 95/100\n",
            "4/4 [==============================] - 0s 3ms/sample - loss: 0.0348\n",
            "Epoch 96/100\n",
            "4/4 [==============================] - 0s 3ms/sample - loss: 0.0343\n",
            "Epoch 97/100\n",
            "4/4 [==============================] - 0s 3ms/sample - loss: 0.0334\n",
            "Epoch 98/100\n",
            "4/4 [==============================] - 0s 3ms/sample - loss: 0.0329\n",
            "Epoch 99/100\n",
            "4/4 [==============================] - 0s 3ms/sample - loss: 0.0324\n",
            "Epoch 100/100\n",
            "4/4 [==============================] - 0s 3ms/sample - loss: 0.0314\n",
            "[[8.315361]]\n"
          ]
        },
        {
          "output_type": "stream",
          "name": "stderr",
          "text": [
            "/usr/local/lib/python3.7/dist-packages/keras/engine/training_v1.py:2079: UserWarning: `Model.state_updates` will be removed in a future version. This property should not be used in TensorFlow 2.0, as `updates` are applied automatically.\n",
            "  updates=self.state_updates,\n"
          ]
        }
      ]
    },
    {
      "cell_type": "code",
      "source": [
        "'''\n",
        "# 차원확장\n",
        "tf.expand_dims(\n",
        "    input = \n",
        "    axis = \n",
        "    name = None\n",
        ")\n",
        "\n",
        "'''\n",
        "\n"
      ],
      "metadata": {
        "id": "M9FysW9hgP1O"
      },
      "execution_count": null,
      "outputs": []
    },
    {
      "cell_type": "code",
      "source": [
        "# from_tensor_slices: numpy array나 list를 tensor dataset으로 변환\n",
        "\n",
        "x = tf.placeholder(tf.float32, shape=[None, 2])\n",
        "dataset = tf.data.Dataset.from_tensor_slices(x)"
      ],
      "metadata": {
        "id": "XiVg062agSrj"
      },
      "execution_count": null,
      "outputs": []
    },
    {
      "cell_type": "code",
      "source": [
        "#suffle():리스트 멤버 섞기\n",
        "import random \n",
        "lst = [x for x in range(1,10)]\n",
        "print(lst)\n",
        "\n",
        "random.shuffle(lst)\n",
        "print(lst)"
      ],
      "metadata": {
        "colab": {
          "base_uri": "https://localhost:8080/"
        },
        "id": "nvBdz5c7gXX6",
        "outputId": "ac1198f3-d5f7-4122-bfa9-ed19e0d07f93"
      },
      "execution_count": null,
      "outputs": [
        {
          "output_type": "stream",
          "name": "stdout",
          "text": [
            "[1, 2, 3, 4, 5, 6, 7, 8, 9]\n",
            "[2, 4, 7, 8, 6, 5, 1, 9, 3]\n"
          ]
        }
      ]
    },
    {
      "cell_type": "code",
      "source": [
        "#batch\n",
        "\n",
        "import keras\n",
        "from keras.optimizer import SGD\n",
        "\n",
        "# Instantiate an optimizer.\n",
        "optimizer = keras.optimizers.SGD(learning_rate=1e-3)\n",
        "# Instantiate a loss function.\n",
        "loss_fn = keras.losses.SparseCategoricalCrossentropy(from_logits=True)\n",
        "\n",
        "# Prepare the training dataset.\n",
        "batch_size = 64\n",
        "(x_train, y_train), (x_test, y_test) = keras.datasets.mnist.load_data()\n",
        "x_train = np.reshape(x_train, (-1, 784))\n",
        "x_test = np.reshape(x_test, (-1, 784))\n",
        "\n",
        "# Reserve 10,000 samples for validation.\n",
        "x_val = x_train[-10000:]\n",
        "y_val = y_train[-10000:]\n",
        "x_train = x_train[:-10000]\n",
        "y_train = y_train[:-10000]\n",
        "\n",
        "# Prepare the training dataset.\n",
        "train_dataset = tf.data.Dataset.from_tensor_slices((x_train, y_train))\n",
        "train_dataset = train_dataset.shuffle(buffer_size=1024).batch(batch_size)\n",
        "\n",
        "# Prepare the validation dataset.\n",
        "val_dataset = tf.data.Dataset.from_tensor_slices((x_val, y_val))\n",
        "val_dataset = val_dataset.batch(batch_size)"
      ],
      "metadata": {
        "colab": {
          "base_uri": "https://localhost:8080/",
          "height": 390
        },
        "id": "RinXY02kgYcB",
        "outputId": "91a4b04a-fb91-43fa-9acb-e041606f67f5"
      },
      "execution_count": null,
      "outputs": [
        {
          "output_type": "error",
          "ename": "ModuleNotFoundError",
          "evalue": "ignored",
          "traceback": [
            "\u001b[0;31m---------------------------------------------------------------------------\u001b[0m",
            "\u001b[0;31mModuleNotFoundError\u001b[0m                       Traceback (most recent call last)",
            "\u001b[0;32m<ipython-input-37-69f238a058c7>\u001b[0m in \u001b[0;36m<module>\u001b[0;34m()\u001b[0m\n\u001b[1;32m      2\u001b[0m \u001b[0;34m\u001b[0m\u001b[0m\n\u001b[1;32m      3\u001b[0m \u001b[0;32mimport\u001b[0m \u001b[0mkeras\u001b[0m\u001b[0;34m\u001b[0m\u001b[0;34m\u001b[0m\u001b[0m\n\u001b[0;32m----> 4\u001b[0;31m \u001b[0;32mfrom\u001b[0m \u001b[0mkeras\u001b[0m\u001b[0;34m.\u001b[0m\u001b[0moptimizer\u001b[0m \u001b[0;32mimport\u001b[0m \u001b[0mSGD\u001b[0m\u001b[0;34m\u001b[0m\u001b[0;34m\u001b[0m\u001b[0m\n\u001b[0m\u001b[1;32m      5\u001b[0m \u001b[0;34m\u001b[0m\u001b[0m\n\u001b[1;32m      6\u001b[0m \u001b[0;31m# Instantiate an optimizer.\u001b[0m\u001b[0;34m\u001b[0m\u001b[0;34m\u001b[0m\u001b[0;34m\u001b[0m\u001b[0m\n",
            "\u001b[0;31mModuleNotFoundError\u001b[0m: No module named 'keras.optimizer'",
            "",
            "\u001b[0;31m---------------------------------------------------------------------------\u001b[0;32m\nNOTE: If your import is failing due to a missing package, you can\nmanually install dependencies using either !pip or !apt.\n\nTo view examples of installing some common dependencies, click the\n\"Open Examples\" button below.\n\u001b[0;31m---------------------------------------------------------------------------\u001b[0m\n"
          ],
          "errorDetails": {
            "actions": [
              {
                "action": "open_url",
                "actionText": "Open Examples",
                "url": "/notebooks/snippets/importing_libraries.ipynb"
              }
            ]
          }
        }
      ]
    },
    {
      "cell_type": "code",
      "source": [
        "#prefetch\n",
        "'''\n",
        "훈련속도 더 빠르게\n",
        "prefetch(1) 호출하면 데이터셋은 항상 한 배치가 미리 준비되도록 함\n",
        "\n",
        "'''"
      ],
      "metadata": {
        "id": "sK4oTjjEgZ7H"
      },
      "execution_count": null,
      "outputs": []
    },
    {
      "cell_type": "code",
      "source": [
        "# window"
      ],
      "metadata": {
        "id": "A6yBBAchgdBE"
      },
      "execution_count": null,
      "outputs": []
    }
  ]
}